{
 "cells": [
  {
   "cell_type": "code",
   "execution_count": 48,
   "metadata": {},
   "outputs": [
    {
     "name": "stdout",
     "output_type": "stream",
     "text": [
      "0.7934131736526946\n",
      "              precision    recall  f1-score   support\n",
      "\n",
      "           0       0.80      0.86      0.83       399\n",
      "           1       0.77      0.69      0.73       269\n",
      "\n",
      "    accuracy                           0.79       668\n",
      "   macro avg       0.79      0.78      0.78       668\n",
      "weighted avg       0.79      0.79      0.79       668\n",
      "\n",
      "[[345  54]\n",
      " [ 84 185]]\n"
     ]
    },
    {
     "name": "stderr",
     "output_type": "stream",
     "text": [
      "D:\\anaconda\\lib\\site-packages\\sklearn\\linear_model\\logistic.py:432: FutureWarning: Default solver will be changed to 'lbfgs' in 0.22. Specify a solver to silence this warning.\n",
      "  FutureWarning)\n"
     ]
    }
   ],
   "source": [
    "import numpy as np\n",
    "import pandas as pd\n",
    "data=pd.read_csv(\"0000000000002429_training_titanic_x_y_train.csv\")\n",
    "data_test=pd.read_csv(\"0000000000002429_test_titanic_x_test.csv\")\n",
    "from sklearn.linear_model import LogisticRegression\n",
    "model=LogisticRegression()\n",
    "data[data.Sex==\"female\"]\n",
    "def Name(s1):\n",
    "    l1=s1.strip().split(\" \")\n",
    "    if \"Mrs.\" in l1:\n",
    "        return 2\n",
    "    elif \"Miss.\" in l1:\n",
    "        return  1\n",
    "    else:\n",
    "        return 0\n",
    "def sex(s2):\n",
    "    if s2==\"female\":\n",
    "        return 1\n",
    "    else: return 0\n",
    "def em(s3):\n",
    "    if s3==\"S\":\n",
    "        return 3\n",
    "    elif s3==\"Q\":\n",
    "        return 2\n",
    "    else: \n",
    "        return 1\n",
    "data[\"name\"]=data.Name.apply(Name)  \n",
    "data.drop(\"Name\",axis=1,inplace=True)\n",
    "data.Age.fillna(data.Age.mean(),inplace=True)\n",
    "data[\"sex\"]=data.Sex.apply(sex)\n",
    "data.drop(\"Sex\",axis=1,inplace=True)\n",
    "data.drop(\"Ticket\",axis=1,inplace=True)\n",
    "data.drop(\"Cabin\",axis=1,inplace=True)\n",
    "\n",
    "data[\"em\"]=data.Embarked.apply(em)\n",
    "data.drop(\"Embarked\",axis=1,inplace=True)\n",
    "y_true=data.Survived\n",
    "data.drop(\"Survived\",axis=1,inplace=True)\n",
    "model.fit(data,y_true)\n",
    "y_train_pred=model.predict(data)\n",
    "y_train_pred1=y_train_pred.reshape(-1,1)\n",
    "\n",
    "y_true1=y_true.to_numpy()\n",
    "y_true2=y_true1.reshape(-1,1)\n",
    "print(model.score(data,y_true2))\n",
    "data_test[\"name\"]=data_test.Name.apply(Name)  \n",
    "data_test.drop(\"Name\",axis=1,inplace=True)\n",
    "data_test.Age.fillna(data_test.Age.mean(),inplace=True)\n",
    "data_test[\"sex\"]=data_test.Sex.apply(sex)\n",
    "data_test.drop(\"Sex\",axis=1,inplace=True)\n",
    "data_test.drop(\"Ticket\",axis=1,inplace=True)\n",
    "data_test.drop(\"Cabin\",axis=1,inplace=True)\n",
    "\n",
    "data_test[\"em\"]=data_test.Embarked.apply(em)\n",
    "data_test.drop(\"Embarked\",axis=1,inplace=True)\n",
    "y_return=model.predict(data_test)\n",
    "np.savetxt(\"y_return.csv\",y_return)\n",
    "from sklearn.metrics import classification_report\n",
    "from sklearn.metrics import confusion_matrix\n",
    "print(classification_report(y_true1,y_train_pred))\n",
    "print(confusion_matrix(y_true1,y_train_pred))"
   ]
  },
  {
   "cell_type": "code",
   "execution_count": null,
   "metadata": {},
   "outputs": [],
   "source": []
  }
 ],
 "metadata": {
  "kernelspec": {
   "display_name": "Python 3",
   "language": "python",
   "name": "python3"
  },
  "language_info": {
   "codemirror_mode": {
    "name": "ipython",
    "version": 3
   },
   "file_extension": ".py",
   "mimetype": "text/x-python",
   "name": "python",
   "nbconvert_exporter": "python",
   "pygments_lexer": "ipython3",
   "version": "3.7.4"
  }
 },
 "nbformat": 4,
 "nbformat_minor": 2
}
